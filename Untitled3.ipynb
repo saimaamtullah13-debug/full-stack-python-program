{
 "cells": [
  {
   "cell_type": "code",
   "execution_count": 3,
   "id": "dcd490bb-50e1-471e-b469-8ac733699e80",
   "metadata": {},
   "outputs": [
    {
     "name": "stdout",
     "output_type": "stream",
     "text": [
      "Hello,Python full stack students!\n"
     ]
    }
   ],
   "source": [
    "print (\"Hello,Python full stack students!\")"
   ]
  },
  {
   "cell_type": "code",
   "execution_count": 4,
   "id": "1f5c399d-5a13-4ae9-8776-07faef28083b",
   "metadata": {},
   "outputs": [
    {
     "name": "stdout",
     "output_type": "stream",
     "text": [
      "i am saima amtullah from avinash college of commerce\n"
     ]
    }
   ],
   "source": [
    "print (\"i am saima amtullah from avinash college of commerce\") "
   ]
  },
  {
   "cell_type": "code",
   "execution_count": 17,
   "id": "66ac09dd-ff0b-449e-a2e2-1179da11fa58",
   "metadata": {},
   "outputs": [
    {
     "name": "stdout",
     "output_type": "stream",
     "text": [
      " studying bcom computer applications\n"
     ]
    }
   ],
   "source": [
    "print (\" studying bcom computer applications\")"
   ]
  },
  {
   "cell_type": "code",
   "execution_count": 22,
   "id": "63783a54-dd90-42ab-b176-d4a1a343a28c",
   "metadata": {},
   "outputs": [
    {
     "name": "stdout",
     "output_type": "stream",
     "text": [
      "<class 'int'> <class 'float'> <class 'str'> <class 'str'>\n"
     ]
    }
   ],
   "source": [
    "x=10\n",
    "y=3.14\n",
    "z=\"python\"\n",
    "flag= 'false'\n",
    "print(type(x),type(y),type(z),type(flag))"
   ]
  },
  {
   "cell_type": "markdown",
   "id": "03de2642-0513-467e-a945-d52e7e3591a9",
   "metadata": {},
   "source": [
    "name=\"saima amtullah\"\n",
    "college=\"avinash college of commerce\"\n",
    "fav programming language= python\n",
    "print (name,college,fav programming language)"
   ]
  },
  {
   "cell_type": "code",
   "execution_count": 27,
   "id": "c2880214-b1e5-4fd8-a503-f85f687067f0",
   "metadata": {},
   "outputs": [
    {
     "name": "stdout",
     "output_type": "stream",
     "text": [
      "saima amtullah avinash college of commerce python\n"
     ]
    }
   ],
   "source": [
    "name=\"saima amtullah\"\n",
    "college=\"avinash college of commerce\" \n",
    "fav_programming_language=\"python\"\n",
    "print(name,college,fav_programming_language)"
   ]
  },
  {
   "cell_type": "code",
   "execution_count": 32,
   "id": "88340cef-f68f-4a3d-a28a-904ad169fd87",
   "metadata": {},
   "outputs": [
    {
     "name": "stdout",
     "output_type": "stream",
     "text": [
      "19\n"
     ]
    }
   ],
   "source": [
    "birth_year=2006\n",
    "current_year=2025\n",
    "print(current_year-birth_year)"
   ]
  },
  {
   "cell_type": "code",
   "execution_count": 34,
   "id": "a687e2bf-4a9f-4af6-95e8-64ceb6f6f0ad",
   "metadata": {},
   "outputs": [
    {
     "name": "stdout",
     "output_type": "stream",
     "text": [
      "3 idiots 2006 five_stars\n"
     ]
    }
   ],
   "source": [
    "movie_name= \"3 idiots\"\n",
    "release_year=2006\n",
    "ratings='five_stars'\n",
    "print(movie_name,release_year,ratings)"
   ]
  },
  {
   "cell_type": "code",
   "execution_count": 35,
   "id": "12734f8b-976f-4610-a344-67e229038ac6",
   "metadata": {},
   "outputs": [
    {
     "name": "stdout",
     "output_type": "stream",
     "text": [
      "addition: 19\n",
      "division: 3.75\n",
      "floor division: 3\n",
      "power: 50625\n"
     ]
    }
   ],
   "source": [
    "a=15\n",
    "b=4\n",
    "print(\"addition:\",a+b)\n",
    "print(\"division:\",a/b)\n",
    "print(\"floor division:\",a//b)\n",
    "print(\"power:\",a**b)"
   ]
  },
  {
   "cell_type": "code",
   "execution_count": 36,
   "id": "ed04bb05-79bb-44f0-b2f5-059a946e481e",
   "metadata": {},
   "outputs": [
    {
     "name": "stdout",
     "output_type": "stream",
     "text": [
      "True\n",
      "False\n",
      "False\n"
     ]
    }
   ],
   "source": [
    "a=10\n",
    "b=4\n",
    "print (a>b)\n",
    "print (a==b)\n",
    "print ((a<b) and (b==20))"
   ]
  },
  {
   "cell_type": "code",
   "execution_count": null,
   "id": "2873a516-2b4c-47ad-8ecf-fc898aac072f",
   "metadata": {},
   "outputs": [],
   "source": []
  }
 ],
 "metadata": {
  "kernelspec": {
   "display_name": "Python [conda env:base] *",
   "language": "python",
   "name": "conda-base-py"
  },
  "language_info": {
   "codemirror_mode": {
    "name": "ipython",
    "version": 3
   },
   "file_extension": ".py",
   "mimetype": "text/x-python",
   "name": "python",
   "nbconvert_exporter": "python",
   "pygments_lexer": "ipython3",
   "version": "3.13.5"
  }
 },
 "nbformat": 4,
 "nbformat_minor": 5
}
