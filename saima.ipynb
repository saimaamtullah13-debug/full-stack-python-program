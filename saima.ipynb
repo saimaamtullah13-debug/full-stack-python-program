{
 "cells": [
  {
   "cell_type": "code",
   "execution_count": 3,
   "id": "dcd490bb-50e1-471e-b469-8ac733699e80",
   "metadata": {},
   "outputs": [
    {
     "name": "stdout",
     "output_type": "stream",
     "text": [
      "Hello,Python full stack students!\n"
     ]
    }
   ],
   "source": [
    "print (\"Hello,Python full stack students!\")"
   ]
  },
  {
   "cell_type": "code",
   "execution_count": 4,
   "id": "1f5c399d-5a13-4ae9-8776-07faef28083b",
   "metadata": {},
   "outputs": [
    {
     "name": "stdout",
     "output_type": "stream",
     "text": [
      "i am saima amtullah from avinash college of commerce\n"
     ]
    }
   ],
   "source": [
    "print (\"i am saima amtullah from avinash college of commerce\") "
   ]
  },
  {
   "cell_type": "code",
   "execution_count": 17,
   "id": "66ac09dd-ff0b-449e-a2e2-1179da11fa58",
   "metadata": {},
   "outputs": [
    {
     "name": "stdout",
     "output_type": "stream",
     "text": [
      " studying bcom computer applications\n"
     ]
    }
   ],
   "source": [
    "print (\" studying bcom computer applications\")"
   ]
  },
  {
   "cell_type": "code",
   "execution_count": 22,
   "id": "63783a54-dd90-42ab-b176-d4a1a343a28c",
   "metadata": {},
   "outputs": [
    {
     "name": "stdout",
     "output_type": "stream",
     "text": [
      "<class 'int'> <class 'float'> <class 'str'> <class 'str'>\n"
     ]
    }
   ],
   "source": [
    "x=10\n",
    "y=3.14\n",
    "z=\"python\"\n",
    "flag= 'false'\n",
    "print(type(x),type(y),type(z),type(flag))"
   ]
  },
  {
   "cell_type": "markdown",
   "id": "03de2642-0513-467e-a945-d52e7e3591a9",
   "metadata": {},
   "source": [
    "name=\"saima amtullah\"\n",
    "college=\"avinash college of commerce\"\n",
    "fav programming language= python\n",
    "print (name,college,fav programming language)"
   ]
  },
  {
   "cell_type": "code",
   "execution_count": 27,
   "id": "c2880214-b1e5-4fd8-a503-f85f687067f0",
   "metadata": {},
   "outputs": [
    {
     "name": "stdout",
     "output_type": "stream",
     "text": [
      "saima amtullah avinash college of commerce python\n"
     ]
    }
   ],
   "source": [
    "name=\"saima amtullah\"\n",
    "college=\"avinash college of commerce\" \n",
    "fav_programming_language=\"python\"\n",
    "print(name,college,fav_programming_language)"
   ]
  },
  {
   "cell_type": "code",
   "execution_count": 32,
   "id": "88340cef-f68f-4a3d-a28a-904ad169fd87",
   "metadata": {},
   "outputs": [
    {
     "name": "stdout",
     "output_type": "stream",
     "text": [
      "19\n"
     ]
    }
   ],
   "source": [
    "birth_year=2006\n",
    "current_year=2025\n",
    "print(current_year-birth_year)"
   ]
  },
  {
   "cell_type": "code",
   "execution_count": 34,
   "id": "a687e2bf-4a9f-4af6-95e8-64ceb6f6f0ad",
   "metadata": {},
   "outputs": [
    {
     "name": "stdout",
     "output_type": "stream",
     "text": [
      "3 idiots 2006 five_stars\n"
     ]
    }
   ],
   "source": [
    "movie_name= \"3 idiots\"\n",
    "release_year=2006\n",
    "ratings='five_stars'\n",
    "print(movie_name,release_year,ratings)"
   ]
  },
  {
   "cell_type": "code",
   "execution_count": 35,
   "id": "12734f8b-976f-4610-a344-67e229038ac6",
   "metadata": {},
   "outputs": [
    {
     "name": "stdout",
     "output_type": "stream",
     "text": [
      "addition: 19\n",
      "division: 3.75\n",
      "floor division: 3\n",
      "power: 50625\n"
     ]
    }
   ],
   "source": [
    "a=15\n",
    "b=4\n",
    "print(\"addition:\",a+b)\n",
    "print(\"division:\",a/b)\n",
    "print(\"floor division:\",a//b)\n",
    "print(\"power:\",a**b)"
   ]
  },
  {
   "cell_type": "code",
   "execution_count": 36,
   "id": "ed04bb05-79bb-44f0-b2f5-059a946e481e",
   "metadata": {},
   "outputs": [
    {
     "name": "stdout",
     "output_type": "stream",
     "text": [
      "True\n",
      "False\n",
      "False\n"
     ]
    }
   ],
   "source": [
    "a=10\n",
    "b=4\n",
    "print (a>b)\n",
    "print (a==b)\n",
    "print ((a<b) and (b==20))"
   ]
  },
  {
   "cell_type": "code",
   "execution_count": 1,
   "id": "2873a516-2b4c-47ad-8ecf-fc898aac072f",
   "metadata": {},
   "outputs": [
    {
     "name": "stdout",
     "output_type": "stream",
     "text": [
      "['apple', 'banana', 'mango', 'orange']\n",
      "banana\n"
     ]
    }
   ],
   "source": [
    "fruits=[\"apple\",\"banana\",\"mango\",]\n",
    "fruits.append(\"orange\")\n",
    "print(fruits) #[\"apple\",\"banana\",\"mango\",\"orange\"]\n",
    "print (fruits[1])"
   ]
  },
  {
   "cell_type": "code",
   "execution_count": 2,
   "id": "05a55768-b778-40e3-b465-380f3492c0f4",
   "metadata": {},
   "outputs": [
    {
     "name": "stdout",
     "output_type": "stream",
     "text": [
      "['romeesa', 'samiya', 'adiba', 'khushboo', 'syeda']\n",
      "khushboo\n"
     ]
    }
   ],
   "source": [
    "girlies=[\"romeesa\",\"samiya\",\"adiba\",\"khushboo\"]\n",
    "girlies.append(\"syeda\")\n",
    "print (girlies) #[\"romeesa\",\"samiya\",\"adiba\",\"khushboo\"]\n",
    "print (girlies[3])"
   ]
  },
  {
   "cell_type": "code",
   "execution_count": 3,
   "id": "618c1524-f404-4019-9979-fb0834e8220e",
   "metadata": {},
   "outputs": [
    {
     "name": "stdout",
     "output_type": "stream",
     "text": [
      "red\n"
     ]
    },
    {
     "data": {
      "text/plain": [
       "'green'"
      ]
     },
     "execution_count": 3,
     "metadata": {},
     "output_type": "execute_result"
    }
   ],
   "source": [
    "colours=(\"red\",\"green\",\"blue\")\n",
    "print(colours[0])\n",
    "colours[1]"
   ]
  },
  {
   "cell_type": "code",
   "execution_count": 11,
   "id": "a7e73380-fdc0-4d5b-a62d-c404fc17bd6a",
   "metadata": {},
   "outputs": [
    {
     "name": "stdout",
     "output_type": "stream",
     "text": [
      "{1, 2, 3, 4, 5, 6}\n"
     ]
    }
   ],
   "source": [
    "numbers={1,2,3,4,5}\n",
    "numbers.add(6)\n",
    "print(numbers)"
   ]
  },
  {
   "cell_type": "code",
   "execution_count": 20,
   "id": "2c881655-6ab1-4043-b6ab-2072adf947f1",
   "metadata": {},
   "outputs": [
    {
     "name": "stdout",
     "output_type": "stream",
     "text": [
      "{'name': 'saima', 'age': 19, 'course': 'BCOM COMP APP'}\n"
     ]
    }
   ],
   "source": [
    "student={\n",
    "  \"name\":\"saima\",\n",
    "\"age\":19,\n",
    "\"course\":\"BCOM COMP APP\",\n",
    "}\n",
    "print(student)"
   ]
  },
  {
   "cell_type": "code",
   "execution_count": 21,
   "id": "815d25a8-f298-4798-9986-ae2753995282",
   "metadata": {},
   "outputs": [
    {
     "name": "stdout",
     "output_type": "stream",
     "text": [
      "{'name': 'saima', 'age': 20, 'course': 'BCOM COMP APP'}\n"
     ]
    }
   ],
   "source": [
    "student={\n",
    "  \"name\":\"saima\",\n",
    "\"age\":19,\n",
    "\"course\":\"BCOM COMP APP\",\n",
    "}\n",
    "student[\"age\"]=20\n",
    "print(student)"
   ]
  },
  {
   "cell_type": "code",
   "execution_count": 25,
   "id": "cba2c386-2709-4737-8b2f-ac4ae25b889c",
   "metadata": {},
   "outputs": [
    {
     "name": "stdout",
     "output_type": "stream",
     "text": [
      "{'name': 'saima', 'age': 19, 'course': 'BCOM COMP APP', 'college': 'Avinash College Of Commmerce'}\n"
     ]
    }
   ],
   "source": [
    "student={\n",
    "  \"name\":\"saima\",\n",
    "  \"age\":19,\n",
    "  \"course\":\"BCOM COMP APP\",\n",
    "}\n",
    "student[\"college\"]=\"Avinash College Of Commmerce\"\n",
    "print (student)"
   ]
  },
  {
   "cell_type": "raw",
   "id": "24fc63a4-aeea-42c8-adca-cf1216508086",
   "metadata": {},
   "source": []
  },
  {
   "cell_type": "markdown",
   "id": "23b84a6e-11c3-4d88-81af-f0680673891c",
   "metadata": {},
   "source": []
  },
  {
   "cell_type": "code",
   "execution_count": 1,
   "id": "bf2a254d-7d41-45b9-b871-37ebc56bda65",
   "metadata": {},
   "outputs": [
    {
     "name": "stdout",
     "output_type": "stream",
     "text": [
      "grade:B\n"
     ]
    }
   ],
   "source": [
    "marks=75\n",
    "if marks>=90:\n",
    " print(\"grade:A\")\n",
    "elif marks>=75:\n",
    " print(\"grade:B\")\n",
    "elif marks>=50:\n",
    " print(\"grade:c\")\n",
    "else:\n",
    " print(\"grade:FAIL\")"
   ]
  },
  {
   "cell_type": "code",
   "execution_count": 2,
   "id": "7a9c5d82-03f7-40fa-89c9-5df3643f1c93",
   "metadata": {},
   "outputs": [
    {
     "name": "stdout",
     "output_type": "stream",
     "text": [
      "number: 1\n",
      "number: 2\n",
      "number: 3\n",
      "number: 4\n",
      "number: 5\n"
     ]
    }
   ],
   "source": [
    "for i in range (1, 6):\n",
    "    print(\"number:\",i)"
   ]
  },
  {
   "cell_type": "code",
   "execution_count": 4,
   "id": "de820130-02cb-4a7d-92a5-0a722f240570",
   "metadata": {},
   "outputs": [
    {
     "name": "stdout",
     "output_type": "stream",
     "text": [
      "number: 1\n",
      "number: 2\n",
      "number: 3\n",
      "number: 4\n",
      "number: 5\n",
      "number: 6\n",
      "number: 7\n",
      "number: 8\n",
      "number: 9\n"
     ]
    }
   ],
   "source": [
    "for s in range (1, 10):\n",
    "    print(\"number:\",s)"
   ]
  },
  {
   "cell_type": "code",
   "execution_count": 5,
   "id": "9147971c-a3a8-4ae1-aeba-3c1611a194a9",
   "metadata": {},
   "outputs": [
    {
     "name": "stdout",
     "output_type": "stream",
     "text": [
      "number: 1\n",
      "number: 2\n",
      "number: 3\n",
      "number: 4\n",
      "number: 5\n",
      "number: 6\n",
      "number: 7\n",
      "number: 8\n",
      "number: 9\n",
      "number: 10\n",
      "number: 11\n",
      "number: 12\n",
      "number: 13\n",
      "number: 14\n",
      "number: 15\n",
      "number: 16\n",
      "number: 17\n",
      "number: 18\n",
      "number: 19\n",
      "number: 20\n",
      "number: 21\n",
      "number: 22\n",
      "number: 23\n",
      "number: 24\n",
      "number: 25\n",
      "number: 26\n",
      "number: 27\n",
      "number: 28\n",
      "number: 29\n",
      "number: 30\n",
      "number: 31\n",
      "number: 32\n",
      "number: 33\n",
      "number: 34\n",
      "number: 35\n",
      "number: 36\n",
      "number: 37\n",
      "number: 38\n",
      "number: 39\n",
      "number: 40\n",
      "number: 41\n",
      "number: 42\n",
      "number: 43\n",
      "number: 44\n",
      "number: 45\n",
      "number: 46\n",
      "number: 47\n",
      "number: 48\n",
      "number: 49\n",
      "number: 50\n",
      "number: 51\n",
      "number: 52\n",
      "number: 53\n",
      "number: 54\n",
      "number: 55\n",
      "number: 56\n",
      "number: 57\n",
      "number: 58\n",
      "number: 59\n",
      "number: 60\n",
      "number: 61\n",
      "number: 62\n",
      "number: 63\n",
      "number: 64\n",
      "number: 65\n",
      "number: 66\n",
      "number: 67\n",
      "number: 68\n",
      "number: 69\n",
      "number: 70\n",
      "number: 71\n",
      "number: 72\n",
      "number: 73\n",
      "number: 74\n",
      "number: 75\n",
      "number: 76\n",
      "number: 77\n",
      "number: 78\n",
      "number: 79\n",
      "number: 80\n",
      "number: 81\n",
      "number: 82\n",
      "number: 83\n",
      "number: 84\n",
      "number: 85\n",
      "number: 86\n",
      "number: 87\n",
      "number: 88\n",
      "number: 89\n",
      "number: 90\n",
      "number: 91\n",
      "number: 92\n",
      "number: 93\n",
      "number: 94\n",
      "number: 95\n",
      "number: 96\n",
      "number: 97\n",
      "number: 98\n",
      "number: 99\n"
     ]
    }
   ],
   "source": [
    "for i in range (1, 100):\n",
    "    print(\"number:\",i)"
   ]
  },
  {
   "cell_type": "code",
   "execution_count": 6,
   "id": "ea6ed1e9-b714-445d-b4e2-d24fe39349f8",
   "metadata": {},
   "outputs": [
    {
     "name": "stdout",
     "output_type": "stream",
     "text": [
      "count: 1\n",
      "count: 2\n",
      "count: 3\n",
      "count: 4\n",
      "count: 5\n"
     ]
    }
   ],
   "source": [
    "count=1\n",
    "while count<=5:\n",
    "    print (\"count:\",count)\n",
    "    count+=1"
   ]
  },
  {
   "cell_type": "code",
   "execution_count": 7,
   "id": "6104c2d5-af03-45b3-846c-014f44fbc0c8",
   "metadata": {},
   "outputs": [
    {
     "name": "stdout",
     "output_type": "stream",
     "text": [
      "count: 1\n",
      "count: 3\n",
      "count: 5\n"
     ]
    }
   ],
   "source": [
    "count=1\n",
    "while count<=5:\n",
    "    print (\"count:\",count)\n",
    "    count+=2"
   ]
  },
  {
   "cell_type": "code",
   "execution_count": 12,
   "id": "ffecd80b-8ee3-4577-9fc9-b7941e0da60b",
   "metadata": {},
   "outputs": [],
   "source": [
    "for i in range (1,10):\n",
    "    if i ==5:\n",
    "        break  \n",
    "        print(i)"
   ]
  },
  {
   "cell_type": "code",
   "execution_count": 13,
   "id": "d59eadc6-d515-4f47-8b9d-a611c3b80f8d",
   "metadata": {},
   "outputs": [],
   "source": [
    "for i in range (1,10):\n",
    "    if i ==5:\n",
    "        break  \n",
    "        print(i)"
   ]
  },
  {
   "cell_type": "code",
   "execution_count": null,
   "id": "1ef7184d-a995-489d-aa43-ec80eea7a8b3",
   "metadata": {},
   "outputs": [],
   "source": []
  }
 ],
 "metadata": {
  "kernelspec": {
   "display_name": "Python [conda env:base] *",
   "language": "python",
   "name": "conda-base-py"
  },
  "language_info": {
   "codemirror_mode": {
    "name": "ipython",
    "version": 3
   },
   "file_extension": ".py",
   "mimetype": "text/x-python",
   "name": "python",
   "nbconvert_exporter": "python",
   "pygments_lexer": "ipython3",
   "version": "3.13.5"
  }
 },
 "nbformat": 4,
 "nbformat_minor": 5
}
